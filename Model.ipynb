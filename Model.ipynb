{
 "cells": [
  {
   "attachments": {},
   "cell_type": "markdown",
   "metadata": {},
   "source": [
    "# ANÁLISIS EXPLORATORIO DE DATOS"
   ]
  },
  {
   "attachments": {},
   "cell_type": "markdown",
   "metadata": {},
   "source": [
    "Importamos librerias necesarias"
   ]
  },
  {
   "cell_type": "code",
   "execution_count": null,
   "metadata": {},
   "outputs": [],
   "source": [
    "import pandas as pd\n",
    "import numpy as np\n",
    "import requests as rq\n",
    "import io"
   ]
  },
  {
   "attachments": {},
   "cell_type": "markdown",
   "metadata": {},
   "source": [
    "Obtenemos los datasets desde las URLs"
   ]
  },
  {
   "cell_type": "code",
   "execution_count": null,
   "metadata": {},
   "outputs": [],
   "source": [
    "req_hosp_train = rq.get('https://raw.githubusercontent.com/soyHenry/Datathon/main/hospitalizaciones_train.csv').content\n",
    "\n",
    "req_hosp_test = rq.get('https://raw.githubusercontent.com/soyHenry/Datathon/main/hospitalizaciones_test.csv').content"
   ]
  },
  {
   "attachments": {},
   "cell_type": "markdown",
   "metadata": {},
   "source": [
    "Convertimos el contenido obtenido anteriormente a DataFrames de Pandas para facilitar su manipulación"
   ]
  },
  {
   "cell_type": "code",
   "execution_count": null,
   "metadata": {},
   "outputs": [],
   "source": [
    "df_hosp_train = pd.read_csv(io.StringIO(req_hosp_train.decode('utf-8')))\n",
    "\n",
    "df_hosp_test = pd.read_csv(io.StringIO(req_hosp_test.decode('utf-8')))"
   ]
  },
  {
   "cell_type": "code",
   "execution_count": null,
   "metadata": {},
   "outputs": [],
   "source": [
    "df_hosp_train.head(2)"
   ]
  },
  {
   "cell_type": "code",
   "execution_count": null,
   "metadata": {},
   "outputs": [],
   "source": [
    "df_hosp_test.head(2)"
   ]
  },
  {
   "attachments": {},
   "cell_type": "markdown",
   "metadata": {},
   "source": [
    "Verificamos que la inexistencia de valores nulos"
   ]
  },
  {
   "cell_type": "code",
   "execution_count": null,
   "metadata": {},
   "outputs": [],
   "source": [
    "df_hosp_train.info()"
   ]
  },
  {
   "cell_type": "code",
   "execution_count": null,
   "metadata": {},
   "outputs": [],
   "source": [
    "df_hosp_test.info()"
   ]
  },
  {
   "attachments": {},
   "cell_type": "markdown",
   "metadata": {},
   "source": [
    "Verificamos la inexistencia de valores duplicados"
   ]
  },
  {
   "cell_type": "code",
   "execution_count": null,
   "metadata": {},
   "outputs": [],
   "source": [
    "df_hosp_train.duplicated().sum()"
   ]
  },
  {
   "cell_type": "code",
   "execution_count": null,
   "metadata": {},
   "outputs": [],
   "source": [
    "df_hosp_test.duplicated().sum()"
   ]
  },
  {
   "attachments": {},
   "cell_type": "markdown",
   "metadata": {},
   "source": [
    "Creamos nuestra columna objetivo a partir de la columna 'Stay (in days)' (en df_hosp_test agrego la misma columna pero vacía)"
   ]
  },
  {
   "cell_type": "code",
   "execution_count": null,
   "metadata": {},
   "outputs": [],
   "source": [
    "df_hosp_train[\"extended_stay\"] = df_hosp_train[\"Stay (in days)\"].apply(lambda x: 1 if x > 8 else 0)"
   ]
  },
  {
   "cell_type": "code",
   "execution_count": null,
   "metadata": {},
   "outputs": [],
   "source": [
    "df_hosp_test[\"pred\"] = ''"
   ]
  },
  {
   "attachments": {},
   "cell_type": "markdown",
   "metadata": {},
   "source": [
    "Eliminamos aquellas columnas que como Científico de Datos considero prescindibles en el modelo "
   ]
  },
  {
   "cell_type": "code",
   "execution_count": null,
   "metadata": {},
   "outputs": [],
   "source": [
    "df_hosp_train.drop(columns=['patientid','Stay (in days)'], inplace=True)"
   ]
  },
  {
   "cell_type": "code",
   "execution_count": null,
   "metadata": {},
   "outputs": [],
   "source": [
    "df_hosp_test.drop(columns=['patientid'], inplace=True)"
   ]
  },
  {
   "attachments": {},
   "cell_type": "markdown",
   "metadata": {},
   "source": [
    "Conversion de variables categóricas"
   ]
  },
  {
   "cell_type": "code",
   "execution_count": null,
   "metadata": {},
   "outputs": [],
   "source": [
    "from sklearn.preprocessing import LabelEncoder, OneHotEncoder\n",
    "from sklearn.compose import ColumnTransformer"
   ]
  },
  {
   "attachments": {},
   "cell_type": "markdown",
   "metadata": {},
   "source": [
    "df_hosp_train"
   ]
  },
  {
   "cell_type": "code",
   "execution_count": null,
   "metadata": {},
   "outputs": [],
   "source": [
    "labelencoder_X = LabelEncoder()\n",
    "df_hosp_train['Department'] = labelencoder_X.fit_transform(df_hosp_train['Department'])\n",
    "\n",
    "labelencoder_X = LabelEncoder()\n",
    "df_hosp_train['Ward_Facility_Code'] = labelencoder_X.fit_transform(df_hosp_train['Ward_Facility_Code'])\n",
    "\n",
    "labelencoder_X = LabelEncoder()\n",
    "df_hosp_train['doctor_name'] = labelencoder_X.fit_transform(df_hosp_train['doctor_name'])\n",
    "\n",
    "labelencoder_X = LabelEncoder()\n",
    "df_hosp_train['Age'] = labelencoder_X.fit_transform(df_hosp_train['Age'])\n",
    "\n",
    "labelencoder_X = LabelEncoder()\n",
    "df_hosp_train['gender'] = labelencoder_X.fit_transform(df_hosp_train['gender'])\n",
    "\n",
    "labelencoder_X = LabelEncoder()\n",
    "df_hosp_train['Type of Admission'] = labelencoder_X.fit_transform(df_hosp_train['Type of Admission'])\n",
    "\n",
    "labelencoder_X = LabelEncoder()\n",
    "df_hosp_train['Severity of Illness'] = labelencoder_X.fit_transform(df_hosp_train['Severity of Illness'])\n",
    "\n",
    "labelencoder_X = LabelEncoder()\n",
    "df_hosp_train['health_conditions'] = labelencoder_X.fit_transform(df_hosp_train['health_conditions'])\n",
    "\n",
    "labelencoder_X = LabelEncoder()\n",
    "df_hosp_train['Insurance'] = labelencoder_X.fit_transform(df_hosp_train['Insurance'])"
   ]
  },
  {
   "cell_type": "code",
   "execution_count": null,
   "metadata": {},
   "outputs": [],
   "source": [
    "df_hosp_train"
   ]
  },
  {
   "attachments": {},
   "cell_type": "markdown",
   "metadata": {},
   "source": [
    "df_hosp_test"
   ]
  },
  {
   "cell_type": "code",
   "execution_count": null,
   "metadata": {},
   "outputs": [],
   "source": [
    "labelencoder_X = LabelEncoder()\n",
    "df_hosp_test['Department'] = labelencoder_X.fit_transform(df_hosp_test['Department'])\n",
    "\n",
    "labelencoder_X = LabelEncoder()\n",
    "df_hosp_test['Ward_Facility_Code'] = labelencoder_X.fit_transform(df_hosp_test['Ward_Facility_Code'])\n",
    "\n",
    "labelencoder_X = LabelEncoder()\n",
    "df_hosp_test['doctor_name'] = labelencoder_X.fit_transform(df_hosp_test['doctor_name'])\n",
    "\n",
    "labelencoder_X = LabelEncoder()\n",
    "df_hosp_test['Age'] = labelencoder_X.fit_transform(df_hosp_test['Age'])\n",
    "\n",
    "labelencoder_X = LabelEncoder()\n",
    "df_hosp_test['gender'] = labelencoder_X.fit_transform(df_hosp_test['gender'])\n",
    "\n",
    "labelencoder_X = LabelEncoder()\n",
    "df_hosp_test['Type of Admission'] = labelencoder_X.fit_transform(df_hosp_test['Type of Admission'])\n",
    "\n",
    "labelencoder_X = LabelEncoder()\n",
    "df_hosp_test['Severity of Illness'] = labelencoder_X.fit_transform(df_hosp_test['Severity of Illness'])\n",
    "\n",
    "labelencoder_X = LabelEncoder()\n",
    "df_hosp_test['health_conditions'] = labelencoder_X.fit_transform(df_hosp_test['health_conditions'])\n",
    "\n",
    "labelencoder_X = LabelEncoder()\n",
    "df_hosp_test['Insurance'] = labelencoder_X.fit_transform(df_hosp_test['Insurance'])"
   ]
  },
  {
   "cell_type": "code",
   "execution_count": null,
   "metadata": {},
   "outputs": [],
   "source": [
    "df_hosp_test"
   ]
  },
  {
   "attachments": {},
   "cell_type": "markdown",
   "metadata": {},
   "source": [
    "# Ajustar el modelo en el Dataframe de Entrenamiento"
   ]
  },
  {
   "attachments": {},
   "cell_type": "markdown",
   "metadata": {},
   "source": [
    "Defino los valores de X e y"
   ]
  },
  {
   "cell_type": "code",
   "execution_count": null,
   "metadata": {},
   "outputs": [],
   "source": [
    "X = df_hosp_train.iloc[:, :-1]\n",
    "y = df_hosp_train.iloc[:,-1]"
   ]
  },
  {
   "attachments": {},
   "cell_type": "markdown",
   "metadata": {},
   "source": [
    "Dividimos en datos de entrenamiento y datos de testeo."
   ]
  },
  {
   "cell_type": "code",
   "execution_count": null,
   "metadata": {},
   "outputs": [],
   "source": [
    "from sklearn.model_selection import train_test_split\n",
    "X_train, X_test, y_train, y_test = train_test_split(X, y, test_size = 0.25, random_state = 42)"
   ]
  },
  {
   "attachments": {},
   "cell_type": "markdown",
   "metadata": {},
   "source": [
    "Elegimos el modelo de K-Nearest Neighbors para resolver el problema de clasificación. Como parámetro elegimos 5 vecinos, la metrica minkowski y p=2 significa que elegimos la distancia manhattan para el modelo"
   ]
  },
  {
   "cell_type": "code",
   "execution_count": null,
   "metadata": {},
   "outputs": [],
   "source": [
    "from sklearn.neighbors import KNeighborsClassifier\n",
    "classifier = KNeighborsClassifier(n_neighbors = 5, metric = \"minkowski\", p = 2)\n",
    "classifier.fit(X_train, y_train)"
   ]
  },
  {
   "cell_type": "code",
   "execution_count": null,
   "metadata": {},
   "outputs": [],
   "source": [
    "y_pred  = classifier.predict(X_test)"
   ]
  },
  {
   "cell_type": "code",
   "execution_count": null,
   "metadata": {},
   "outputs": [],
   "source": [
    "y_pred"
   ]
  },
  {
   "attachments": {},
   "cell_type": "markdown",
   "metadata": {},
   "source": [
    "Matriz de confusión"
   ]
  },
  {
   "cell_type": "code",
   "execution_count": null,
   "metadata": {},
   "outputs": [],
   "source": [
    "from sklearn.metrics import confusion_matrix\n",
    "cm = confusion_matrix(y_test, y_pred)\n",
    "cm"
   ]
  },
  {
   "attachments": {},
   "cell_type": "markdown",
   "metadata": {},
   "source": [
    "Calculo de Recall y Accuracy"
   ]
  },
  {
   "cell_type": "code",
   "execution_count": null,
   "metadata": {},
   "outputs": [],
   "source": [
    "from sklearn import metrics\n",
    "\n",
    "print(\"Recall: \", metrics.recall_score(y_test,y_pred))\n",
    "print(\"Accuracy: \", metrics.accuracy_score(y_test,y_pred))\n"
   ]
  },
  {
   "attachments": {},
   "cell_type": "markdown",
   "metadata": {},
   "source": [
    "# Ajustar el modelo con el conjunto de Test"
   ]
  },
  {
   "cell_type": "code",
   "execution_count": null,
   "metadata": {},
   "outputs": [],
   "source": [
    "X2 = df_hosp_test.iloc[:, :-1]"
   ]
  },
  {
   "attachments": {},
   "cell_type": "markdown",
   "metadata": {},
   "source": [
    "Evaluamos en modelo en el Dataframe de Test"
   ]
  },
  {
   "cell_type": "code",
   "execution_count": null,
   "metadata": {},
   "outputs": [],
   "source": [
    "y_pred2  = classifier.predict(X2)"
   ]
  },
  {
   "cell_type": "code",
   "execution_count": null,
   "metadata": {},
   "outputs": [],
   "source": [
    "y_pred2"
   ]
  },
  {
   "attachments": {},
   "cell_type": "markdown",
   "metadata": {},
   "source": [
    "Agregamos los valores predichos a la columna 'extended_stay' del Dataframe de Test"
   ]
  },
  {
   "cell_type": "code",
   "execution_count": null,
   "metadata": {},
   "outputs": [],
   "source": [
    "df_hosp_test['pred'] = y_pred2"
   ]
  },
  {
   "cell_type": "code",
   "execution_count": null,
   "metadata": {},
   "outputs": [],
   "source": [
    "df_hosp_test"
   ]
  },
  {
   "attachments": {},
   "cell_type": "markdown",
   "metadata": {},
   "source": [
    "Creamos un archivos csv con los datos que hemos predicho del Dataframe de de Test"
   ]
  },
  {
   "cell_type": "code",
   "execution_count": null,
   "metadata": {},
   "outputs": [],
   "source": [
    "pd.DataFrame(y_pred2).to_csv('MatiasMartinez96.csv', index=False)"
   ]
  },
  {
   "cell_type": "code",
   "execution_count": null,
   "metadata": {},
   "outputs": [],
   "source": []
  }
 ],
 "metadata": {
  "kernelspec": {
   "display_name": "Python 3",
   "language": "python",
   "name": "python3"
  },
  "language_info": {
   "codemirror_mode": {
    "name": "ipython",
    "version": 3
   },
   "file_extension": ".py",
   "mimetype": "text/x-python",
   "name": "python",
   "nbconvert_exporter": "python",
   "pygments_lexer": "ipython3",
   "version": "3.10.7"
  },
  "orig_nbformat": 4,
  "vscode": {
   "interpreter": {
    "hash": "c259d08bc2cb2f5e0792d6b908d68d0a519f1348398ed9bbfffb6d4d4eafb58d"
   }
  }
 },
 "nbformat": 4,
 "nbformat_minor": 2
}
